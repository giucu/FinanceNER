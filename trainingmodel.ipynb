{
 "cells": [
  {
   "cell_type": "code",
   "execution_count": 1,
   "metadata": {},
   "outputs": [
    {
     "name": "stderr",
     "output_type": "stream",
     "text": [
      "c:\\Users\\hp\\Desktop\\DS2\\Natural Language Processing\\project\\.venv\\Lib\\site-packages\\tqdm\\auto.py:21: TqdmWarning: IProgress not found. Please update jupyter and ipywidgets. See https://ipywidgets.readthedocs.io/en/stable/user_install.html\n",
      "  from .autonotebook import tqdm as notebook_tqdm\n"
     ]
    }
   ],
   "source": [
    "from datasets import load_dataset\n",
    "\n",
    "ds = load_dataset(\"gtfintechlab/finer-ord\")"
   ]
  },
  {
   "cell_type": "code",
   "execution_count": null,
   "metadata": {},
   "outputs": [],
   "source": [
    "train_dataset = ds[\"train\"]\n",
    "\n",
    "validation_dataset = ds[\"validation\"]\n",
    "\n",
    "test_dataset = ds[\"test\"]"
   ]
  },
  {
   "cell_type": "code",
   "execution_count": 3,
   "metadata": {},
   "outputs": [
    {
     "name": "stdout",
     "output_type": "stream",
     "text": [
      "{0, 1, 2, 3, 4, 5, 6}\n"
     ]
    }
   ],
   "source": [
    "unique_labels = set(ds[\"train\"][\"gold_label\"])\n",
    "print(unique_labels)"
   ]
  },
  {
   "cell_type": "code",
   "execution_count": null,
   "metadata": {},
   "outputs": [],
   "source": [
    "import pandas as pd\n",
    "\n",
    "train_df = pd.DataFrame(train_dataset)\n",
    "val_df = pd.DataFrame(validation_dataset)"
   ]
  },
  {
   "cell_type": "code",
   "execution_count": null,
   "metadata": {},
   "outputs": [
    {
     "data": {
      "text/html": [
       "<div>\n",
       "<style scoped>\n",
       "    .dataframe tbody tr th:only-of-type {\n",
       "        vertical-align: middle;\n",
       "    }\n",
       "\n",
       "    .dataframe tbody tr th {\n",
       "        vertical-align: top;\n",
       "    }\n",
       "\n",
       "    .dataframe thead th {\n",
       "        text-align: right;\n",
       "    }\n",
       "</style>\n",
       "<table border=\"1\" class=\"dataframe\">\n",
       "  <thead>\n",
       "    <tr style=\"text-align: right;\">\n",
       "      <th></th>\n",
       "      <th>gold_label</th>\n",
       "      <th>gold_token</th>\n",
       "      <th>doc_idx</th>\n",
       "      <th>sent_idx</th>\n",
       "      <th>entity_label</th>\n",
       "    </tr>\n",
       "  </thead>\n",
       "  <tbody>\n",
       "    <tr>\n",
       "      <th>10223</th>\n",
       "      <td>0</td>\n",
       "      <td>individuals</td>\n",
       "      <td>155</td>\n",
       "      <td>19</td>\n",
       "      <td>O</td>\n",
       "    </tr>\n",
       "    <tr>\n",
       "      <th>10224</th>\n",
       "      <td>0</td>\n",
       "      <td>along</td>\n",
       "      <td>155</td>\n",
       "      <td>19</td>\n",
       "      <td>O</td>\n",
       "    </tr>\n",
       "    <tr>\n",
       "      <th>10225</th>\n",
       "      <td>3</td>\n",
       "      <td>Florida</td>\n",
       "      <td>155</td>\n",
       "      <td>19</td>\n",
       "      <td>LOC_B</td>\n",
       "    </tr>\n",
       "    <tr>\n",
       "      <th>10226</th>\n",
       "      <td>0</td>\n",
       "      <td>’s</td>\n",
       "      <td>155</td>\n",
       "      <td>19</td>\n",
       "      <td>O</td>\n",
       "    </tr>\n",
       "    <tr>\n",
       "      <th>10227</th>\n",
       "      <td>3</td>\n",
       "      <td>First</td>\n",
       "      <td>155</td>\n",
       "      <td>19</td>\n",
       "      <td>LOC_B</td>\n",
       "    </tr>\n",
       "    <tr>\n",
       "      <th>10228</th>\n",
       "      <td>4</td>\n",
       "      <td>Coast</td>\n",
       "      <td>155</td>\n",
       "      <td>19</td>\n",
       "      <td>LOC_I</td>\n",
       "    </tr>\n",
       "    <tr>\n",
       "      <th>10229</th>\n",
       "      <td>0</td>\n",
       "      <td>.</td>\n",
       "      <td>155</td>\n",
       "      <td>19</td>\n",
       "      <td>O</td>\n",
       "    </tr>\n",
       "    <tr>\n",
       "      <th>10230</th>\n",
       "      <td>0</td>\n",
       "      <td>#</td>\n",
       "      <td>155</td>\n",
       "      <td>20</td>\n",
       "      <td>O</td>\n",
       "    </tr>\n",
       "    <tr>\n",
       "      <th>10231</th>\n",
       "      <td>0</td>\n",
       "      <td>#</td>\n",
       "      <td>155</td>\n",
       "      <td>20</td>\n",
       "      <td>O</td>\n",
       "    </tr>\n",
       "    <tr>\n",
       "      <th>10232</th>\n",
       "      <td>0</td>\n",
       "      <td>#</td>\n",
       "      <td>155</td>\n",
       "      <td>20</td>\n",
       "      <td>O</td>\n",
       "    </tr>\n",
       "  </tbody>\n",
       "</table>\n",
       "</div>"
      ],
      "text/plain": [
       "       gold_label   gold_token  doc_idx  sent_idx entity_label\n",
       "10223           0  individuals      155        19            O\n",
       "10224           0        along      155        19            O\n",
       "10225           3      Florida      155        19        LOC_B\n",
       "10226           0           ’s      155        19            O\n",
       "10227           3        First      155        19        LOC_B\n",
       "10228           4        Coast      155        19        LOC_I\n",
       "10229           0            .      155        19            O\n",
       "10230           0            #      155        20            O\n",
       "10231           0            #      155        20            O\n",
       "10232           0            #      155        20            O"
      ]
     },
     "execution_count": 13,
     "metadata": {},
     "output_type": "execute_result"
    }
   ],
   "source": [
    "label_mapping = {0:'O', 1: 'PER_B', 2:'PER_I', 3:'LOC_B', 4:'LOC_I', 5:'ORG_B', 6:'ORG_I'}\n",
    "\n",
    "def convert_labels(example):\n",
    "    example[\"entity_label\"] = label_mapping[example[\"gold_label\"]]\n",
    "    return example\n",
    "\n",
    "train_df[\"entity_label\"] = train_df[\"gold_label\"].map(label_mapping)\n",
    "val_df[\"entity_label\"] = val_df[\"gold_label\"].map(label_mapping)\n",
    "\n",
    "id2label = {v: k for k, v in label_mapping.items()}\n",
    "\n",
    "val_df.tail(10)"
   ]
  },
  {
   "cell_type": "code",
   "execution_count": 14,
   "metadata": {},
   "outputs": [
    {
     "name": "stderr",
     "output_type": "stream",
     "text": [
      "Map: 100%|██████████| 10233/10233 [00:01<00:00, 8316.66 examples/s]\n"
     ]
    }
   ],
   "source": [
    "trainds = train_dataset.map(convert_labels)\n",
    "valds = validation_dataset.map(convert_labels)"
   ]
  },
  {
   "cell_type": "code",
   "execution_count": null,
   "metadata": {},
   "outputs": [],
   "source": [
    "def group_by_punctuation(dataset, punctuations={\".\", \"?\", \"!\"}):\n",
    "    sentences = []  \n",
    "    labels = []\n",
    "    current_sentence, current_labels = [], []\n",
    "\n",
    "    for entry in dataset:\n",
    "        word = entry[\"gold_token\"]\n",
    "        label = entry[\"entity_label\"]\n",
    "\n",
    "        current_sentence.append(word)\n",
    "        current_labels.append(label)\n",
    "\n",
    "        if word in punctuations:\n",
    "            sentences.append(current_sentence)\n",
    "            labels.append(current_labels)\n",
    "            current_sentence, current_labels = [], []\n",
    "\n",
    "    if current_sentence:\n",
    "        sentences.append(current_sentence)\n",
    "        labels.append(current_labels)\n",
    "\n",
    "    return sentences, labels\n",
    "\n",
    "sentences, labels = group_by_punctuation(trainds)\n"
   ]
  },
  {
   "cell_type": "code",
   "execution_count": 8,
   "metadata": {},
   "outputs": [],
   "source": [
    "def create_label_mapping(labels_list):\n",
    "    unique_labels = set(label for labels in labels_list for label in labels)\n",
    "    label2id = {label: i for i, label in enumerate(sorted(unique_labels))}\n",
    "    id2label = {i: label for label, i in label2id.items()}\n",
    "    return label2id, id2label"
   ]
  },
  {
   "cell_type": "code",
   "execution_count": null,
   "metadata": {},
   "outputs": [],
   "source": [
    "import torch\n",
    "from torch.utils.data import Dataset\n",
    "\n",
    "class NERDataset(Dataset):\n",
    "    def __init__(self, sentences, labels, tokenizer, label2id, max_len=128):\n",
    "        self.sentences = sentences\n",
    "        self.labels = labels\n",
    "        self.tokenizer = tokenizer\n",
    "        self.label2id = label2id\n",
    "        self.max_len = max_len\n",
    "\n",
    "    def __len__(self):\n",
    "        return len(self.sentences)\n",
    "\n",
    "    def __getitem__(self, idx):\n",
    "        tokens = [str(token) for token in self.sentences[idx]]\n",
    "        label_tags = self.labels[idx]\n",
    "\n",
    "        print(f\"Tokens type: {type(tokens)}, first few: {tokens[:5]}\")\n",
    "        print(f\"Labels type: {type(label_tags)}, first few: {label_tags[:5]}\")\n",
    "\n",
    "        tokens = tokens[:self.max_len]\n",
    "        label_tags = label_tags[:self.max_len]\n",
    "\n",
    "        assert len(tokens) == len(label_tags), f\"Tokens and labels length mismatch: {len(tokens)} vs {len(label_tags)}\"\n",
    "\n",
    "        try:\n",
    "            encoding = self.tokenizer(\n",
    "                tokens,\n",
    "                is_split_into_words=True,\n",
    "                padding='max_length',\n",
    "                truncation=True,\n",
    "                max_length=self.max_len,\n",
    "                return_tensors='pt'\n",
    "            )\n",
    "        except Exception as e:\n",
    "            print(f\"Tokenization error: {e}\")\n",
    "            print(f\"Problematic tokens: {tokens}\")\n",
    "            raise\n",
    "\n",
    "        labels = torch.full((len(encoding['input_ids'][0]),), -100, dtype=torch.long)\n",
    "        \n",
    "        word_ids = encoding.word_ids(batch_index=0)\n",
    "        previous_word_idx = None\n",
    "        for i, word_idx in enumerate(word_ids):\n",
    "            if word_idx is None:\n",
    "                continue\n",
    "            \n",
    "            if word_idx < len(label_tags):\n",
    "                if word_idx != previous_word_idx:\n",
    "                    try:\n",
    "                        labels[i] = self.label2id[label_tags[word_idx]]\n",
    "                    except KeyError:\n",
    "                        labels[i] = -100\n",
    "                        print(f\"Warning: Unknown label {label_tags[word_idx]}\")\n",
    "            \n",
    "            previous_word_idx = word_idx\n",
    "        \n",
    "        encoding['labels'] = labels\n",
    "        \n",
    "        return {key: val.squeeze(0) for key, val in encoding.items()}"
   ]
  },
  {
   "cell_type": "code",
   "execution_count": null,
   "metadata": {},
   "outputs": [
    {
     "name": "stderr",
     "output_type": "stream",
     "text": [
      "Some weights of BertForTokenClassification were not initialized from the model checkpoint at FinanceInc/finbert-pretrain and are newly initialized: ['classifier.bias', 'classifier.weight']\n",
      "You should probably TRAIN this model on a down-stream task to be able to use it for predictions and inference.\n"
     ]
    }
   ],
   "source": [
    "from transformers import AutoModelForTokenClassification, TrainingArguments, Trainer, AutoModelForMaskedLM\n",
    "\n",
    "# Load data\n",
    "train_sentences, train_labels = group_by_punctuation(trainds)\n",
    "dev_sentences, dev_labels = group_by_punctuation(valds)\n",
    "\n",
    "# Label mapping\n",
    "label2id, id2label = create_label_mapping(train_labels + dev_labels)\n",
    "num_labels = len(label2id)\n",
    "\n",
    "# Model\n",
    "tokenizer = AutoTokenizer.from_pretrained(\"FinanceInc/finbert-pretrain\")\n",
    "tokenizer.model_max_length = 512\n",
    "model = AutoModelForTokenClassification.from_pretrained(\n",
    "    \"FinanceInc/finbert-pretrain\", \n",
    "    num_labels=num_labels, \n",
    "    id2label=id2label,     \n",
    "    label2id=label2id,      \n",
    "    problem_type=\"token_classification\"  # Explicitly specify token classification\n",
    ")\n",
    "#model = AutoModelForMaskedLM.from_pretrained(\"FinanceInc/finbert-pretrain\") \n",
    "\n",
    "train_dataset = NERDataset(train_sentences, train_labels, tokenizer, label2id)\n",
    "dev_dataset = NERDataset(dev_sentences, dev_labels, tokenizer, label2id)"
   ]
  },
  {
   "cell_type": "code",
   "execution_count": null,
   "metadata": {},
   "outputs": [],
   "source": [
    "import torch\n",
    "\n",
    "training_args = TrainingArguments(\n",
    "    output_dir=\"./results\",\n",
    "    evaluation_strategy=\"epoch\",\n",
    "    learning_rate=0.0001,\n",
    "    per_device_train_batch_size=32,\n",
    "    per_device_eval_batch_size=32,\n",
    "    num_train_epochs=2,\n",
    "    weight_decay=0.01,\n",
    "    save_strategy=\"epoch\",\n",
    "    logging_dir=\"./logs\",\n",
    "    logging_steps=10,\n",
    ")\n",
    "\n",
    "trainer = Trainer(\n",
    "    model=model,\n",
    "    args=training_args,\n",
    "    train_dataset=train_dataset,\n",
    "    eval_dataset=dev_dataset,\n",
    "    tokenizer=tokenizer\n",
    ")\n",
    "\n",
    "trainer.train()"
   ]
  },
  {
   "cell_type": "code",
   "execution_count": null,
   "metadata": {},
   "outputs": [
    {
     "data": {
      "text/plain": [
       "('./saved_model\\\\tokenizer_config.json',\n",
       " './saved_model\\\\special_tokens_map.json',\n",
       " './saved_model\\\\vocab.txt',\n",
       " './saved_model\\\\added_tokens.json',\n",
       " './saved_model\\\\tokenizer.json')"
      ]
     },
     "execution_count": 52,
     "metadata": {},
     "output_type": "execute_result"
    }
   ],
   "source": [
    "trainer.save_model(\"./saved_model\")  # Save model weights\n",
    "tokenizer.save_pretrained(\"./saved_model\")  "
   ]
  },
  {
   "cell_type": "code",
   "execution_count": null,
   "metadata": {},
   "outputs": [
    {
     "name": "stdout",
     "output_type": "stream",
     "text": [
      "multi_label_classification\n"
     ]
    },
    {
     "data": {
      "text/plain": [
       "('./saved_model\\\\tokenizer_config.json',\n",
       " './saved_model\\\\special_tokens_map.json',\n",
       " './saved_model\\\\vocab.txt',\n",
       " './saved_model\\\\added_tokens.json',\n",
       " './saved_model\\\\tokenizer.json')"
      ]
     },
     "execution_count": 66,
     "metadata": {},
     "output_type": "execute_result"
    }
   ],
   "source": [
    "config = model.config\n",
    "\n",
    "# Modify the configuration\n",
    "config.problem_type = 'multi_label_classification'  # For some reason won't accept token token_classification \n",
    "model.save_pretrained(\"./saved_model\", config=config)\n",
    "tokenizer.save_pretrained(\"./saved_model\")"
   ]
  },
  {
   "cell_type": "markdown",
   "metadata": {},
   "source": [
    "### Reloading model"
   ]
  },
  {
   "cell_type": "code",
   "execution_count": 67,
   "metadata": {},
   "outputs": [
    {
     "name": "stdout",
     "output_type": "stream",
     "text": [
      "multi_label_classification\n",
      "token_classification\n"
     ]
    }
   ],
   "source": [
    "model = AutoModelForTokenClassification.from_pretrained(\"./saved_model\")\n",
    "print(model.config.problem_type)\n",
    "model.config.problem_type = 'token_classification'\n",
    "print(model.config.problem_type)\n",
    "tokenizer = AutoTokenizer.from_pretrained(\"./saved_model\")"
   ]
  },
  {
   "cell_type": "markdown",
   "metadata": {},
   "source": [
    "### NER Attempt"
   ]
  },
  {
   "cell_type": "code",
   "execution_count": null,
   "metadata": {},
   "outputs": [
    {
     "name": "stderr",
     "output_type": "stream",
     "text": [
      "Device set to use cpu\n"
     ]
    }
   ],
   "source": [
    "tweets = pd.read_csv(\"test_data/proc_data.csv\")\n",
    "tweets['Tweet Text'] = tweets['Tweet Text'].str[2:-1]\n",
    "tweet = tweets['Tweet Text']\n",
    "\n",
    "from transformers import pipeline\n",
    "\n",
    "ner_pipeline = pipeline(\"ner\", model=model, tokenizer=tokenizer, aggregation_strategy=\"simple\")  # group subwords"
   ]
  },
  {
   "cell_type": "code",
   "execution_count": null,
   "metadata": {},
   "outputs": [
    {
     "name": "stdout",
     "output_type": "stream",
     "text": [
      "Sentence 1: It all begins today! I will see you at 11:00 A.M. for the swearing-in. THE MOVEMENT CONTINUES - THE WORK BEGINS!\n",
      "Entities: []\n",
      "\n",
      "Sentence 2: Today we are not merely transferring power from one Administration to another or from one party to another ‚Äì but we are transferring...\n",
      "Entities: []\n",
      "\n",
      "Sentence 3: power from Washington D.C. and giving it back to you the American People. # InaugurationDay\n",
      "Entities: [{'entity': 'LOC_B', 'word': 'washington', 'start': 11, 'end': 21}, {'entity': 'LOC_I', 'word': 'd. c.', 'start': 22, 'end': 26}]\n",
      "\n",
      "Sentence 4: What truly matters is not which party controls our government but whether our government is controlled by the people.\n",
      "Entities: []\n",
      "\n",
      "Sentence 5: January 20th 2017 will be remembered as the day the people became the rulers of this nation again.\n",
      "Entities: []\n",
      "\n",
      "Sentence 6: The forgotten men and women of our country will be forgotten no longer. From this moment on it‚Äôs going to be # AmericaFirst\n",
      "Entities: [{'entity': 'ORG_B', 'word': 'ao', 'start': 95, 'end': 97}, {'entity': 'ORG_B', 'word': 'america', 'start': 113, 'end': 120}, {'entity': 'ORG_I', 'word': '##first', 'start': 120, 'end': 125}]\n",
      "\n",
      "Sentence 7: We will bring back our jobs. We will bring back our borders. We will bring back our wealth - and we will bring back our dreams!\n",
      "Entities: []\n",
      "\n",
      "Sentence 8: We will follow two simple rules: BUY AMERICAN & HIRE AMERICAN! # InaugurationDay # MAGA\n",
      "Entities: [{'entity': 'ORG_B', 'word': 'american', 'start': 37, 'end': 45}, {'entity': 'ORG_B', 'word': 'american', 'start': 53, 'end': 61}, {'entity': 'PER_B', 'word': 'mag', 'start': 83, 'end': 86}]\n",
      "\n",
      "Sentence 9: It is time to remember that...https://www.facebook.com/DonaldTrump/posts/10158510858055725 ‚Ä¶\n",
      "Entities: [{'entity': 'ORG_B', 'word': 'facebook', 'start': 42, 'end': 50}]\n",
      "\n",
      "Sentence 10: So to all Americans in every city near and far small and large from mountain to mountain...https://www.facebook.com/DonaldTrump/posts/10158510880180725 ‚Ä¶\n",
      "Entities: [{'entity': 'LOC_B', 'word': 'mountain', 'start': 68, 'end': 76}, {'entity': 'LOC_B', 'word': 'mountain', 'start': 80, 'end': 88}, {'entity': 'ORG_B', 'word': 'facebook', 'start': 103, 'end': 111}, {'entity': 'ORG_B', 'word': 'donald', 'start': 116, 'end': 122}, {'entity': 'PER_I', 'word': '##tru', 'start': 122, 'end': 125}]\n",
      "\n"
     ]
    }
   ],
   "source": [
    "entities_list = []\n",
    "k = 10\n",
    "for sentence in tweet[:k]:\n",
    "    entities = ner_pipeline(sentence)\n",
    "    extracted_entities = [{\"entity\": ent[\"entity_group\"], \"word\": ent[\"word\"], \"start\": ent[\"start\"], \"end\": ent[\"end\"]} for ent in entities]\n",
    "    entities_list.append(extracted_entities)\n",
    "\n",
    "for i, (sent, ents) in enumerate(zip(tweet[:k], entities_list)):\n",
    "    print(f\"Sentence {i+1}: {sent}\")\n",
    "    print(\"Entities:\", ents)\n",
    "    print()"
   ]
  }
 ],
 "metadata": {
  "kernelspec": {
   "display_name": "mlenv",
   "language": "python",
   "name": "python3"
  },
  "language_info": {
   "codemirror_mode": {
    "name": "ipython",
    "version": 3
   },
   "file_extension": ".py",
   "mimetype": "text/x-python",
   "name": "python",
   "nbconvert_exporter": "python",
   "pygments_lexer": "ipython3",
   "version": "3.11.9"
  }
 },
 "nbformat": 4,
 "nbformat_minor": 2
}
