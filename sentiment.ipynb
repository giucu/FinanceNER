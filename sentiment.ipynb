{
 "cells": [
  {
   "cell_type": "code",
   "execution_count": 1,
   "id": "4e751390",
   "metadata": {},
   "outputs": [
    {
     "name": "stderr",
     "output_type": "stream",
     "text": [
      "c:\\Users\\hp\\Desktop\\DS2\\Natural Language Processing\\project\\.venv\\Lib\\site-packages\\tqdm\\auto.py:21: TqdmWarning: IProgress not found. Please update jupyter and ipywidgets. See https://ipywidgets.readthedocs.io/en/stable/user_install.html\n",
      "  from .autonotebook import tqdm as notebook_tqdm\n"
     ]
    },
    {
     "name": "stdout",
     "output_type": "stream",
     "text": [
      "WARNING:tensorflow:From c:\\Users\\hp\\Desktop\\DS2\\Natural Language Processing\\project\\.venv\\Lib\\site-packages\\tf_keras\\src\\losses.py:2976: The name tf.losses.sparse_softmax_cross_entropy is deprecated. Please use tf.compat.v1.losses.sparse_softmax_cross_entropy instead.\n",
      "\n"
     ]
    }
   ],
   "source": [
    "from datasets import load_dataset\n",
    "import torch\n",
    "from torch.utils.data import Dataset\n",
    "from transformers import AutoModelForTokenClassification, TrainingArguments, Trainer, pipeline, AutoTokenizer, AutoModelForSequenceClassification\n",
    "import pandas as pd"
   ]
  },
  {
   "cell_type": "markdown",
   "id": "6036acf4",
   "metadata": {},
   "source": [
    "NER Model loading..."
   ]
  },
  {
   "cell_type": "code",
   "execution_count": 2,
   "id": "a65bfd40",
   "metadata": {},
   "outputs": [
    {
     "name": "stderr",
     "output_type": "stream",
     "text": [
      "Device set to use cpu\n"
     ]
    },
    {
     "name": "stdout",
     "output_type": "stream",
     "text": [
      "multi_label_classification\n",
      "token_classification\n"
     ]
    }
   ],
   "source": [
    "NER_model = AutoModelForTokenClassification.from_pretrained(\"./saved_model\")\n",
    "print(NER_model.config.problem_type)\n",
    "NER_model.config.problem_type = 'token_classification'\n",
    "print(NER_model.config.problem_type)\n",
    "NER_tokenizer = AutoTokenizer.from_pretrained(\"./saved_model\")\n",
    "ner_pipeline = pipeline(\"ner\", model=NER_model, tokenizer=NER_tokenizer, aggregation_strategy=\"simple\") "
   ]
  },
  {
   "cell_type": "markdown",
   "id": "01120684",
   "metadata": {},
   "source": [
    "(Existing) FinSentiment Analysis Model loading..."
   ]
  },
  {
   "cell_type": "code",
   "execution_count": 3,
   "id": "61cf692e",
   "metadata": {},
   "outputs": [
    {
     "name": "stderr",
     "output_type": "stream",
     "text": [
      "Device set to use cpu\n"
     ]
    }
   ],
   "source": [
    "sent_tokenizer = AutoTokenizer.from_pretrained(\"mrm8488/distilroberta-finetuned-financial-news-sentiment-analysis\")\n",
    "sent_model = AutoModelForSequenceClassification.from_pretrained(\"mrm8488/distilroberta-finetuned-financial-news-sentiment-analysis\")\n",
    "sent_pipeline = pipeline(\"sentiment-analysis\", model=sent_model, tokenizer=sent_tokenizer)"
   ]
  },
  {
   "cell_type": "markdown",
   "id": "55cab55e",
   "metadata": {},
   "source": [
    "Test on trump tweets"
   ]
  },
  {
   "cell_type": "code",
   "execution_count": 6,
   "id": "18c5e471",
   "metadata": {},
   "outputs": [
    {
     "name": "stdout",
     "output_type": "stream",
     "text": [
      "Sentence 1: Enjoy the # SuperBowl and then we continue: MAKE AMERICA GREAT AGAIN!\n",
      "Entities: [{'entity': 'LOC_B', 'word': 'america', 'start': 49, 'end': 56}]\n",
      "Sentiment: [{'label': 'neutral', 'score': 0.9960447549819946}]\n",
      "\n",
      "Sentence 2: What an amazing comeback and win by the Patriots. Tom Brady Bob Kraft and Coach B are total winners. Wow!\n",
      "Entities: [{'entity': 'ORG_B', 'word': 'patriot', 'start': 40, 'end': 47}, {'entity': 'PER_B', 'word': 'tom', 'start': 50, 'end': 53}, {'entity': 'PER_I', 'word': 'brady', 'start': 54, 'end': 59}, {'entity': 'PER_B', 'word': 'bob', 'start': 60, 'end': 63}, {'entity': 'PER_I', 'word': 'kraft', 'start': 64, 'end': 69}, {'entity': 'ORG_B', 'word': 'coach', 'start': 74, 'end': 79}, {'entity': 'ORG_I', 'word': 'b', 'start': 80, 'end': 81}]\n",
      "Sentiment: [{'label': 'positive', 'score': 0.9985207915306091}]\n",
      "\n",
      "Sentence 3: Any negative polls are fake news just like the CNN ABC NBC polls in the election. Sorry people want border security and extreme vetting.\n",
      "Entities: [{'entity': 'ORG_B', 'word': 'cn', 'start': 47, 'end': 49}, {'entity': 'ORG_B', 'word': 'abc nbc', 'start': 51, 'end': 58}]\n",
      "Sentiment: [{'label': 'neutral', 'score': 0.9983727335929871}]\n",
      "\n",
      "Sentence 4: I call my own shots largely based on an accumulation of data and everyone knows it. Some FAKE NEWS media in order to marginalize lies!\n",
      "Entities: []\n",
      "Sentiment: [{'label': 'neutral', 'score': 0.9998226761817932}]\n",
      "\n",
      "Sentence 5: The failing @ nytimes writes total fiction concerning me. They have gotten it wrong for two years and now are making up stories & sources!\n",
      "Entities: [{'entity': 'ORG_B', 'word': 'ny', 'start': 14, 'end': 16}, {'entity': 'ORG_I', 'word': '##times', 'start': 16, 'end': 21}]\n",
      "Sentiment: [{'label': 'neutral', 'score': 0.995203971862793}]\n",
      "\n",
      "Sentence 6: An extended interview from the Super Bowl with @ oreillyfactor airs tonight at 8:00 P.M. Enjoy!pic.twitter.com/kZdHqaNTVR\n",
      "Entities: [{'entity': 'ORG_B', 'word': 'ore', 'start': 49, 'end': 52}, {'entity': 'ORG_I', 'word': '##yfactor', 'start': 55, 'end': 62}, {'entity': 'PER_B', 'word': 'ton', 'start': 68, 'end': 71}, {'entity': 'ORG_B', 'word': 'twitter', 'start': 99, 'end': 106}, {'entity': 'PER_I', 'word': '##dh', 'start': 113, 'end': 115}]\n",
      "Sentiment: [{'label': 'neutral', 'score': 0.999850869178772}]\n",
      "\n",
      "Sentence 7: The failing @ nytimes was forced to apologize to its subscribers for the poor reporting it did on my election win. Now they are worse!\n",
      "Entities: [{'entity': 'ORG_B', 'word': 'ny', 'start': 14, 'end': 16}, {'entity': 'ORG_I', 'word': '##times', 'start': 16, 'end': 21}]\n",
      "Sentiment: [{'label': 'negative', 'score': 0.975521981716156}]\n",
      "\n",
      "Sentence 8: The threat from radical Islamic terrorism is very real just look at what is happening in Europe and the Middle-East. Courts must act fast!\n",
      "Entities: [{'entity': 'LOC_B', 'word': 'europe', 'start': 89, 'end': 95}, {'entity': 'LOC_B', 'word': 'middle', 'start': 104, 'end': 110}, {'entity': 'LOC_I', 'word': '- east', 'start': 110, 'end': 115}]\n",
      "Sentiment: [{'label': 'neutral', 'score': 0.9956047534942627}]\n",
      "\n",
      "Sentence 9: I don't know Putin have no deals in Russia and the haters are going crazy - yet Obama can make a deal with Iran #1 in terror no problem!\n",
      "Entities: [{'entity': 'ORG_B', 'word': 'put', 'start': 13, 'end': 16}, {'entity': 'ORG_I', 'word': '##in', 'start': 16, 'end': 18}, {'entity': 'LOC_B', 'word': 'russia', 'start': 36, 'end': 42}, {'entity': 'PER_B', 'word': 'obama', 'start': 80, 'end': 85}, {'entity': 'ORG_B', 'word': 'iran', 'start': 107, 'end': 111}, {'entity': 'ORG_B', 'word': 'ter', 'start': 118, 'end': 121}]\n",
      "Sentiment: [{'label': 'neutral', 'score': 0.9465925693511963}]\n",
      "\n",
      "Sentence 10: An honor having the National Sheriffs' Assoc. join me at the @ WhiteHouse. Incredible men & women who protect & serve 24/7/365. THANK YOU!!pic.twitter.com/9EMTnH0OrF\n",
      "Entities: [{'entity': 'ORG_I', 'word': '##iff', 'start': 33, 'end': 36}, {'entity': 'ORG_B', 'word': 'white', 'start': 63, 'end': 68}, {'entity': 'ORG_I', 'word': '##house', 'start': 68, 'end': 73}, {'entity': 'ORG_B', 'word': 'pic', 'start': 139, 'end': 142}, {'entity': 'ORG_B', 'word': 'twitter', 'start': 143, 'end': 150}]\n",
      "Sentiment: [{'label': 'neutral', 'score': 0.9988788962364197}]\n",
      "\n",
      "Sentence 11: It is a disgrace that my full Cabinet is still not in place the longest such delay in the history of our country. Obstruction by Democrats!\n",
      "Entities: []\n",
      "Sentiment: [{'label': 'negative', 'score': 0.8517561554908752}]\n",
      "\n",
      "Sentence 12: If the U.S. does not win this case as it so obviously should we can never have the security and safety to which we are entitled. Politics!\n",
      "Entities: [{'entity': 'LOC_B', 'word': 'u', 'start': 7, 'end': 8}, {'entity': 'LOC_I', 'word': '. s.', 'start': 8, 'end': 11}]\n",
      "Sentiment: [{'label': 'negative', 'score': 0.8335862159729004}]\n",
      "\n"
     ]
    }
   ],
   "source": [
    "tweets = pd.read_csv(\"test_data/proc_data.csv\")\n",
    "tweets['Tweet Text'] = tweets['Tweet Text'].str[2:-1]\n",
    "tweet = tweets['Tweet Text']\n",
    "\n",
    "entities_list = []\n",
    "sent_list = []\n",
    "k = 10\n",
    "for sentence in tweet[100:112]:\n",
    "    entities = ner_pipeline(sentence)\n",
    "    sent = sent_pipeline(sentence)\n",
    "    extracted_entities = [{\"entity\": ent[\"entity_group\"], \"word\": ent[\"word\"], \"start\": ent[\"start\"], \"end\": ent[\"end\"]} for ent in entities]\n",
    "    entities_list.append(extracted_entities)\n",
    "    sent_list.append(sent)\n",
    "\n",
    "# Print results\n",
    "for i, (sent, ents, s) in enumerate(zip(tweet[100:112], entities_list, sent_list)):\n",
    "    print(f\"Sentence {i+1}: {sent}\")\n",
    "    print(\"Entities:\", ents)\n",
    "    print(\"Sentiment:\", s)\n",
    "    print()"
   ]
  }
 ],
 "metadata": {
  "kernelspec": {
   "display_name": ".venv",
   "language": "python",
   "name": "python3"
  },
  "language_info": {
   "codemirror_mode": {
    "name": "ipython",
    "version": 3
   },
   "file_extension": ".py",
   "mimetype": "text/x-python",
   "name": "python",
   "nbconvert_exporter": "python",
   "pygments_lexer": "ipython3",
   "version": "3.11.9"
  }
 },
 "nbformat": 4,
 "nbformat_minor": 5
}
