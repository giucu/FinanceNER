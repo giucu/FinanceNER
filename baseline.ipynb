{
 "cells": [
  {
   "cell_type": "code",
   "execution_count": 4,
   "metadata": {},
   "outputs": [
    {
     "name": "stderr",
     "output_type": "stream",
     "text": [
      "c:\\Users\\hp\\Desktop\\DS2\\Natural Language Processing\\project\\.venv\\Lib\\site-packages\\tqdm\\auto.py:21: TqdmWarning: IProgress not found. Please update jupyter and ipywidgets. See https://ipywidgets.readthedocs.io/en/stable/user_install.html\n",
      "  from .autonotebook import tqdm as notebook_tqdm\n"
     ]
    }
   ],
   "source": [
    "import pandas as pd\n",
    "from transformers import AutoTokenizer, AutoModelForSequenceClassification"
   ]
  },
  {
   "cell_type": "code",
   "execution_count": null,
   "metadata": {},
   "outputs": [],
   "source": [
    "splits = {'train': 'train.csv', 'validation': 'val.csv', 'test': 'test.csv'}\n",
    "df = pd.read_csv(\"hf://datasets/gtfintechlab/finer-ord/\" + splits[\"train\"])"
   ]
  },
  {
   "cell_type": "markdown",
   "metadata": {},
   "source": [
    "#### Baseline model: **FinBERT**"
   ]
  },
  {
   "cell_type": "code",
   "execution_count": 5,
   "metadata": {},
   "outputs": [
    {
     "name": "stderr",
     "output_type": "stream",
     "text": [
      "Some weights of BertForSequenceClassification were not initialized from the model checkpoint at yiyanghkust/finbert-pretrain and are newly initialized: ['classifier.bias', 'classifier.weight']\n",
      "You should probably TRAIN this model on a down-stream task to be able to use it for predictions and inference.\n"
     ]
    }
   ],
   "source": [
    "tokenizer = AutoTokenizer.from_pretrained(\"yiyanghkust/finbert-pretrain\")\n",
    "model = AutoModelForSequenceClassification.from_pretrained(\"yiyanghkust/finbert-pretrain\")"
   ]
  },
  {
   "cell_type": "code",
   "execution_count": 10,
   "metadata": {},
   "outputs": [],
   "source": [
    "def read_conllu_like_iob2(filepath):\n",
    "    sentences = []\n",
    "    labels = []\n",
    "    sentence, label = [], []\n",
    "\n",
    "    with open(filepath, 'r', encoding='utf-8') as f:\n",
    "        for line in f:\n",
    "            line = line.strip()\n",
    "            if line == '':\n",
    "                if sentence:\n",
    "                    sentences.append(sentence)\n",
    "                    labels.append(label)\n",
    "                    sentence, label = [], []\n",
    "            elif line.startswith('#'):\n",
    "                continue  # Skip metadata\n",
    "            else:\n",
    "                parts = line.split('\\t')\n",
    "                if len(parts) >= 3:  # Ensure enough columns\n",
    "                    word, tag = parts[1], parts[2]\n",
    "                    sentence.append(word)\n",
    "                    label.append(tag)\n",
    "\n",
    "    # Add last sentence if file doesn't end with newline\n",
    "    if sentence:\n",
    "        sentences.append(sentence)\n",
    "        labels.append(label)\n",
    "\n",
    "    return sentences, labels\n",
    "\n",
    "sentences, tags = read_conllu_like_iob2('en_ewt-ud-train.iob2')\n",
    "sentences2, tags2 = read_conllu_like_iob2('en_ewt-ud-dev.iob2')"
   ]
  },
  {
   "cell_type": "code",
   "execution_count": 2,
   "metadata": {},
   "outputs": [],
   "source": [
    "from tensorflow.keras.preprocessing.sequence import pad_sequences\n",
    "from sklearn.preprocessing import LabelEncoder\n",
    "\n",
    "# Vocabulary\n",
    "word_vocab = {word for sentence in sentences for word in sentence}\n",
    "word2idx = {word: idx + 2 for idx, word in enumerate(word_vocab)}\n",
    "word2idx['PAD'] = 0\n",
    "word2idx['UNK'] = 1\n",
    "\n",
    "# Tags\n",
    "all_tags = [tag for tag_list in tags for tag in tag_list]\n",
    "tag_encoder = LabelEncoder()\n",
    "tag_encoder.fit(all_tags)\n",
    "tag2idx = {tag: idx for idx, tag in enumerate(tag_encoder.classes_)}\n",
    "\n",
    "# Encode\n",
    "X = [[word2idx.get(word, word2idx['UNK']) for word in sentence] for sentence in sentences]\n",
    "y = [[tag2idx[tag] for tag in label] for label in tags]\n",
    "\n",
    "# Padding\n",
    "max_len = max(len(seq) for seq in X)  # You may also fix a max_len\n",
    "X = pad_sequences(X, maxlen=max_len, padding='post')\n",
    "y = pad_sequences(y, maxlen=max_len, padding='post')"
   ]
  },
  {
   "cell_type": "code",
   "execution_count": 3,
   "metadata": {},
   "outputs": [],
   "source": [
    "import tensorflow as tf\n",
    "\n",
    "batch_size = 32\n",
    "dataset = tf.data.Dataset.from_tensor_slices((X, y)).shuffle(len(X)).batch(batch_size)"
   ]
  },
  {
   "cell_type": "code",
   "execution_count": 14,
   "metadata": {},
   "outputs": [
    {
     "name": "stdout",
     "output_type": "stream",
     "text": [
      "WARNING:tensorflow:From c:\\Users\\hp\\Desktop\\DS2\\Natural Language Processing\\project\\.venv\\Lib\\site-packages\\tf_keras\\src\\losses.py:2976: The name tf.losses.sparse_softmax_cross_entropy is deprecated. Please use tf.compat.v1.losses.sparse_softmax_cross_entropy instead.\n",
      "\n"
     ]
    },
    {
     "name": "stderr",
     "output_type": "stream",
     "text": [
      "Some weights of BertForTokenClassification were not initialized from the model checkpoint at yiyanghkust/finbert-pretrain and are newly initialized: ['classifier.bias', 'classifier.weight']\n",
      "You should probably TRAIN this model on a down-stream task to be able to use it for predictions and inference.\n"
     ]
    }
   ],
   "source": [
    "from transformers import  AutoModelForTokenClassification, Trainer, TrainingArguments\n",
    "import torch\n",
    "\n",
    "tokenizer = AutoTokenizer.from_pretrained(\"yiyanghkust/finbert-pretrain\")\n",
    "model = AutoModelForTokenClassification.from_pretrained(\"yiyanghkust/finbert-pretrain\", num_labels=len(tag2idx))"
   ]
  },
  {
   "cell_type": "code",
   "execution_count": null,
   "metadata": {},
   "outputs": [],
   "source": [
    "pip install datasets"
   ]
  },
  {
   "cell_type": "code",
   "execution_count": 16,
   "metadata": {},
   "outputs": [
    {
     "ename": "ModuleNotFoundError",
     "evalue": "No module named 'datasets'",
     "output_type": "error",
     "traceback": [
      "\u001b[31m---------------------------------------------------------------------------\u001b[39m",
      "\u001b[31mModuleNotFoundError\u001b[39m                       Traceback (most recent call last)",
      "\u001b[36mCell\u001b[39m\u001b[36m \u001b[39m\u001b[32mIn[16]\u001b[39m\u001b[32m, line 8\u001b[39m\n\u001b[32m      5\u001b[39m     tokenized_inputs[\u001b[33m\"\u001b[39m\u001b[33mlabels\u001b[39m\u001b[33m\"\u001b[39m] = labels\n\u001b[32m      6\u001b[39m     \u001b[38;5;28;01mreturn\u001b[39;00m tokenized_inputs\n\u001b[32m----> \u001b[39m\u001b[32m8\u001b[39m \u001b[38;5;28;01mfrom\u001b[39;00m\u001b[38;5;250m \u001b[39m\u001b[34;01mdatasets\u001b[39;00m\u001b[38;5;250m \u001b[39m\u001b[38;5;28;01mimport\u001b[39;00m Dataset\n\u001b[32m     10\u001b[39m \u001b[38;5;66;03m# Convert dictionaries to Dataset\u001b[39;00m\n\u001b[32m     11\u001b[39m train_dataset = Dataset.from_dict({\u001b[33m'\u001b[39m\u001b[33msentence\u001b[39m\u001b[33m'\u001b[39m: sentences, \u001b[33m'\u001b[39m\u001b[33mlabels\u001b[39m\u001b[33m'\u001b[39m: tags})\n",
      "\u001b[31mModuleNotFoundError\u001b[39m: No module named 'datasets'"
     ]
    }
   ],
   "source": [
    "def tokenize_and_align_labels(examples):\n",
    "    tokenized_inputs = tokenizer(examples['sentence'], truncation=True, padding=True, is_split_into_words=True)\n",
    "    labels = [label + [tag2idx['O']] * (len(tokenized_input['input_ids']) - len(label)) \n",
    "              for label, tokenized_input in zip(examples['labels'], tokenized_inputs)]\n",
    "    tokenized_inputs[\"labels\"] = labels\n",
    "    return tokenized_inputs\n",
    "\n",
    "from datasets import Dataset\n",
    "\n",
    "# Convert dictionaries to Dataset\n",
    "train_dataset = Dataset.from_dict({'sentence': sentences, 'labels': tags})\n",
    "eval_dataset = Dataset.from_dict({'sentence': sentences2, 'labels': tags2})\n",
    "\n",
    "# training\n",
    "training_args = TrainingArguments(\n",
    "    output_dir='./results',          # output directory\n",
    "    num_train_epochs=2,              \n",
    "    per_device_train_batch_size=16,  \n",
    "    per_device_eval_batch_size=64,   \n",
    "    logging_dir='./logs',            # directory for storing logs\n",
    "    evaluation_strategy=\"epoch\",   \n",
    "    learning_rate=0.0001\n",
    ")\n",
    "\n",
    "trainer = Trainer(\n",
    "    model=model,                       \n",
    "    args=training_args,              \n",
    "    train_dataset=train_dataset,      \n",
    "    eval_dataset=eval_dataset          \n",
    ")\n",
    "\n",
    "trainer.train()\n"
   ]
  },
  {
   "cell_type": "code",
   "execution_count": null,
   "metadata": {},
   "outputs": [],
   "source": [
    "from transformers import Trainer, TrainingArguments\n",
    "\n",
    "training_args = TrainingArguments(\n",
    "    output_dir=\"./results\",\n",
    "    evaluation_strategy=\"epoch\",\n",
    "    learning_rate=0.0001,\n",
    "    per_device_train_batch_size=16,\n",
    "    num_train_epochs=2,\n",
    ")\n",
    "\n",
    "trainer = Trainer(\n",
    "    model=model,\n",
    "    args=training_args,\n",
    "    train_dataset=train_dataset,\n",
    "    eval_dataset=eval_dataset,\n",
    "    tokenizer=tokenizer,\n",
    ")\n",
    "\n",
    "trainer.train()\n"
   ]
  }
 ],
 "metadata": {
  "kernelspec": {
   "display_name": ".venv",
   "language": "python",
   "name": "python3"
  },
  "language_info": {
   "codemirror_mode": {
    "name": "ipython",
    "version": 3
   },
   "file_extension": ".py",
   "mimetype": "text/x-python",
   "name": "python",
   "nbconvert_exporter": "python",
   "pygments_lexer": "ipython3",
   "version": "3.11.9"
  }
 },
 "nbformat": 4,
 "nbformat_minor": 2
}
